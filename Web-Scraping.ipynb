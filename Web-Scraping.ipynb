{
 "cells": [
  {
   "cell_type": "markdown",
   "source": [
    "# Importando bibliotecas"
   ],
   "metadata": {
    "collapsed": false,
    "pycharm": {
     "name": "#%% md\n"
    }
   }
  },
  {
   "cell_type": "code",
   "source": [
    "import requests\n",
    "import pandas as pd\n",
    "from datetime import datetime\n",
    "from bs4 import BeautifulSoup\n",
    "import numpy as np"
   ],
   "metadata": {
    "collapsed": false,
    "pycharm": {
     "name": "#%%\n"
    }
   },
   "execution_count": 24,
   "outputs": []
  },
  {
   "cell_type": "markdown",
   "source": [
    "# Adicionando o endereço do site e HTTP headers para web scrapping"
   ],
   "metadata": {
    "collapsed": false
   }
  },
  {
   "cell_type": "code",
   "execution_count": 25,
   "outputs": [],
   "source": [
    "url = 'https://www2.hm.com/en_us/men/products/jeans.html'\n",
    "headers = {'User-Agent': 'Mozilla/5.0 (Macintosh; Intel Mac OS X 10_11_5) ,AppleWebKit/537.36 (KHTML, like Gecko) Chrome/50.0.2661.102 Safari/537.36'}\n",
    "page = requests.get( url, headers=headers )"
   ],
   "metadata": {
    "collapsed": false,
    "pycharm": {
     "name": "#%%\n"
    }
   }
  },
  {
   "cell_type": "markdown",
   "source": [
    "# Utilizando a linda sopa (rs)"
   ],
   "metadata": {
    "collapsed": false,
    "pycharm": {
     "name": "#%% md\n"
    }
   }
  },
  {
   "cell_type": "code",
   "execution_count": 26,
   "outputs": [],
   "source": [
    "soup = BeautifulSoup( page.text, 'html.parser' )"
   ],
   "metadata": {
    "collapsed": false,
    "pycharm": {
     "name": "#%%\n"
    }
   }
  },
  {
   "cell_type": "markdown",
   "source": [
    "## Linda sopa, extraia todos os produtos"
   ],
   "metadata": {
    "collapsed": false,
    "pycharm": {
     "name": "#%% md\n"
    }
   }
  },
  {
   "cell_type": "code",
   "execution_count": 27,
   "outputs": [
    {
     "name": "stdout",
     "output_type": "stream",
     "text": [
      "total_item 64\n",
      "page_number 1.7777777777777777\n"
     ]
    }
   ],
   "source": [
    "total_item = soup.find_all( 'h2', class_='load-more-heading' )[0].get('data-total')\n",
    "print('total_item', total_item)\n",
    "page_number =  int( total_item ) / 36\n",
    "print('page_number', page_number)\n",
    "url02 = url + '?page-size=' + str( int( page_number*36 ) )\n",
    "url02\n",
    "page2 = requests.get( url02, headers=headers )\n",
    "soup = BeautifulSoup( page2.text, 'html.parser' )\n",
    "products = soup.find( 'ul', class_='products-listing small' )"
   ],
   "metadata": {
    "collapsed": false,
    "pycharm": {
     "name": "#%%\n"
    }
   }
  },
  {
   "cell_type": "code",
   "execution_count": 28,
   "outputs": [],
   "source": [
    "product_list = soup.find_all('article', class_='hm-product-item')\n",
    "# percorre a lista para encontrar o id de cada produto\n",
    "product_id =[]\n",
    "for p in list (product_list):\n",
    "  product_id.append(p.get('data-articlecode'))\n",
    "\n",
    "#categoria\n",
    "product_category =[]\n",
    "for p in list (product_list):\n",
    "  product_category.append(p.get('data-category'))\n",
    "\n",
    "#nome\n",
    "product_list = products.find_all('a', class_='link')\n",
    "product_name = []\n",
    "for p in list(product_list):\n",
    "  product_name.append(p.get_text())\n",
    "\n",
    "#preco\n",
    "product_list = products.find_all('span', class_='price regular')\n",
    "product_price = []\n",
    "for p in list(product_list):\n",
    "  product_price.append(p.get_text())"
   ],
   "metadata": {
    "collapsed": false,
    "pycharm": {
     "name": "#%%\n"
    }
   }
  },
  {
   "cell_type": "code",
   "execution_count": 29,
   "outputs": [],
   "source": [
    "#constuindo o dataframe\n",
    "data = pd.DataFrame( [product_id, product_category, product_name,product_price] ).T\n",
    "data.columns = ['product_id', 'product_category', 'product_name','product_price']"
   ],
   "metadata": {
    "collapsed": false,
    "pycharm": {
     "name": "#%%\n"
    }
   }
  },
  {
   "cell_type": "markdown",
   "source": [
    "# Vamos checar o que obtemos"
   ],
   "metadata": {
    "collapsed": false,
    "pycharm": {
     "name": "#%% md\n"
    }
   }
  },
  {
   "cell_type": "code",
   "execution_count": 30,
   "outputs": [
    {
     "data": {
      "text/plain": "    product_id   product_category                   product_name product_price\n0   1024256001     men_jeans_slim                     Slim Jeans       $ 19.99\n1   1024256003     men_jeans_slim                     Slim Jeans       $ 19.99\n2   0690449056   men_jeans_ripped                   Skinny Jeans       $ 39.99\n3   0985159001   men_jeans_skinny                   Skinny Jeans       $ 24.99\n4   1024256007     men_jeans_slim                     Slim Jeans       $ 19.99\n..         ...                ...                            ...           ...\n59  0751994034     men_jeans_slim                     Slim Jeans       $ 29.99\n60  0974597001     men_jeans_slim             Slim Tapered Jeans       $ 29.99\n61  0974202002    men_jeans_loose          Regular Denim Joggers       $ 29.99\n62  0993887002  men_jeans_regular   Hybrid Regular Denim Joggers       $ 44.99\n63  0865734001  men_jeans_relaxed  Relaxed Tapered Pull-on Jeans       $ 29.99\n\n[64 rows x 4 columns]",
      "text/html": "<div>\n<style scoped>\n    .dataframe tbody tr th:only-of-type {\n        vertical-align: middle;\n    }\n\n    .dataframe tbody tr th {\n        vertical-align: top;\n    }\n\n    .dataframe thead th {\n        text-align: right;\n    }\n</style>\n<table border=\"1\" class=\"dataframe\">\n  <thead>\n    <tr style=\"text-align: right;\">\n      <th></th>\n      <th>product_id</th>\n      <th>product_category</th>\n      <th>product_name</th>\n      <th>product_price</th>\n    </tr>\n  </thead>\n  <tbody>\n    <tr>\n      <th>0</th>\n      <td>1024256001</td>\n      <td>men_jeans_slim</td>\n      <td>Slim Jeans</td>\n      <td>$ 19.99</td>\n    </tr>\n    <tr>\n      <th>1</th>\n      <td>1024256003</td>\n      <td>men_jeans_slim</td>\n      <td>Slim Jeans</td>\n      <td>$ 19.99</td>\n    </tr>\n    <tr>\n      <th>2</th>\n      <td>0690449056</td>\n      <td>men_jeans_ripped</td>\n      <td>Skinny Jeans</td>\n      <td>$ 39.99</td>\n    </tr>\n    <tr>\n      <th>3</th>\n      <td>0985159001</td>\n      <td>men_jeans_skinny</td>\n      <td>Skinny Jeans</td>\n      <td>$ 24.99</td>\n    </tr>\n    <tr>\n      <th>4</th>\n      <td>1024256007</td>\n      <td>men_jeans_slim</td>\n      <td>Slim Jeans</td>\n      <td>$ 19.99</td>\n    </tr>\n    <tr>\n      <th>...</th>\n      <td>...</td>\n      <td>...</td>\n      <td>...</td>\n      <td>...</td>\n    </tr>\n    <tr>\n      <th>59</th>\n      <td>0751994034</td>\n      <td>men_jeans_slim</td>\n      <td>Slim Jeans</td>\n      <td>$ 29.99</td>\n    </tr>\n    <tr>\n      <th>60</th>\n      <td>0974597001</td>\n      <td>men_jeans_slim</td>\n      <td>Slim Tapered Jeans</td>\n      <td>$ 29.99</td>\n    </tr>\n    <tr>\n      <th>61</th>\n      <td>0974202002</td>\n      <td>men_jeans_loose</td>\n      <td>Regular Denim Joggers</td>\n      <td>$ 29.99</td>\n    </tr>\n    <tr>\n      <th>62</th>\n      <td>0993887002</td>\n      <td>men_jeans_regular</td>\n      <td>Hybrid Regular Denim Joggers</td>\n      <td>$ 44.99</td>\n    </tr>\n    <tr>\n      <th>63</th>\n      <td>0865734001</td>\n      <td>men_jeans_relaxed</td>\n      <td>Relaxed Tapered Pull-on Jeans</td>\n      <td>$ 29.99</td>\n    </tr>\n  </tbody>\n</table>\n<p>64 rows × 4 columns</p>\n</div>"
     },
     "execution_count": 30,
     "metadata": {},
     "output_type": "execute_result"
    }
   ],
   "source": [
    "data"
   ],
   "metadata": {
    "collapsed": false,
    "pycharm": {
     "name": "#%%\n"
    }
   }
  }
 ],
 "metadata": {
  "kernelspec": {
   "display_name": "Python 3",
   "language": "python",
   "name": "python3"
  },
  "language_info": {
   "codemirror_mode": {
    "name": "ipython",
    "version": 2
   },
   "file_extension": ".py",
   "mimetype": "text/x-python",
   "name": "python",
   "nbconvert_exporter": "python",
   "pygments_lexer": "ipython2",
   "version": "2.7.6"
  }
 },
 "nbformat": 4,
 "nbformat_minor": 0
}